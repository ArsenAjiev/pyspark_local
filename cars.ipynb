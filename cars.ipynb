{
 "cells": [
  {
   "cell_type": "code",
   "execution_count": 1,
   "id": "cbf32e91-7bba-456a-aa1b-f8222f35687a",
   "metadata": {},
   "outputs": [],
   "source": [
    "from pyspark.sql import SparkSession\n",
    "\n",
    "spark = SparkSession.builder.getOrCreate()\n"
   ]
  },
  {
   "cell_type": "code",
   "execution_count": 2,
   "id": "78e73f4d-1046-4f22-a64e-04e646a49ec7",
   "metadata": {},
   "outputs": [
    {
     "data": {
      "text/html": [
       "\n",
       "            <div>\n",
       "                <p><b>SparkSession - in-memory</b></p>\n",
       "                \n",
       "        <div>\n",
       "            <p><b>SparkContext</b></p>\n",
       "\n",
       "            <p><a href=\"http://9896e4b7e1d9:4040\">Spark UI</a></p>\n",
       "\n",
       "            <dl>\n",
       "              <dt>Version</dt>\n",
       "                <dd><code>v3.3.1</code></dd>\n",
       "              <dt>Master</dt>\n",
       "                <dd><code>local[*]</code></dd>\n",
       "              <dt>AppName</dt>\n",
       "                <dd><code>pyspark-shell</code></dd>\n",
       "            </dl>\n",
       "        </div>\n",
       "        \n",
       "            </div>\n",
       "        "
      ],
      "text/plain": [
       "<pyspark.sql.session.SparkSession at 0x7f18576dde40>"
      ]
     },
     "execution_count": 2,
     "metadata": {},
     "output_type": "execute_result"
    }
   ],
   "source": [
    "spark"
   ]
  },
  {
   "cell_type": "code",
   "execution_count": 9,
   "id": "0bd69dcd-79ba-45f2-8384-73ec31607cd6",
   "metadata": {},
   "outputs": [],
   "source": [
    "df = spark.read.format(\"csv\").option(\"header\", \"true\").load(\"/home/jovyan/work/data/cars.csv\")"
   ]
  },
  {
   "cell_type": "code",
   "execution_count": 7,
   "id": "763ae046-7430-4d4b-b766-637466b8170d",
   "metadata": {},
   "outputs": [
    {
     "name": "stdout",
     "output_type": "stream",
     "text": [
      "manufacturer_name,model_name,transmission,color,odometer_value,year_produced,engine_fuel,engine_has_gas,engine_type,engine_capacity,body_type,has_warranty,state,drivetrain,price_usd,is_exchangeable,location_region,number_of_photos,up_counter,feature_0,feature_1,feature_2,feature_3,feature_4,feature_5,feature_6,feature_7,feature_8,feature_9,duration_listed\n",
      "Subaru,Outback,automatic,silver,190000,2010,gasoline,False,gasoline,2.5,universal,False,owned,all,10900.0,False,Минская обл.,9,13,False,True,True,True,False,True,False,True,True,True,16\n",
      "Subaru,Outback,automatic,blue,290000,2002,gasoline,False,gasoline,3.0,universal,False,owned,all,5000.0,True,Минская обл.,12,54,False,True,False,False,True,True,False,False,False,True,83\n",
      "Subaru,Forester,automatic,red,402000,2001,gasoline,False,gasoline,2.5,suv,False,owned,all,2800.0,True,Минская обл.,4,72,False,True,False,False,False,False,False,False,True,True,151\n",
      "Subaru,Impreza,mechanical,blue,10000,1999,gasoline,False,gasoline,3.0,sedan,False,owned,all,9999.0,True,Минская обл.,9,42,True,False,False,False,False,False,False,False,False,False,86\n"
     ]
    }
   ],
   "source": [
    "!head -n5 /home/jovyan/work/data/cars.csv"
   ]
  },
  {
   "cell_type": "code",
   "execution_count": 10,
   "id": "f5095754-c142-4ccd-926c-c451b9ab7f2a",
   "metadata": {},
   "outputs": [
    {
     "name": "stdout",
     "output_type": "stream",
     "text": [
      "+-----------------+----------+------------+------+--------------+-------------+-----------+--------------+-----------+---------------+---------+------------+-----+----------+---------+---------------+---------------+----------------+----------+---------+---------+---------+---------+---------+---------+---------+---------+---------+---------+---------------+\n",
      "|manufacturer_name|model_name|transmission| color|odometer_value|year_produced|engine_fuel|engine_has_gas|engine_type|engine_capacity|body_type|has_warranty|state|drivetrain|price_usd|is_exchangeable|location_region|number_of_photos|up_counter|feature_0|feature_1|feature_2|feature_3|feature_4|feature_5|feature_6|feature_7|feature_8|feature_9|duration_listed|\n",
      "+-----------------+----------+------------+------+--------------+-------------+-----------+--------------+-----------+---------------+---------+------------+-----+----------+---------+---------------+---------------+----------------+----------+---------+---------+---------+---------+---------+---------+---------+---------+---------+---------+---------------+\n",
      "|           Subaru|   Outback|   automatic|silver|        190000|         2010|   gasoline|         False|   gasoline|            2.5|universal|       False|owned|       all|  10900.0|          False|   Минская обл.|               9|        13|    False|     True|     True|     True|    False|     True|    False|     True|     True|     True|             16|\n",
      "|           Subaru|   Outback|   automatic|  blue|        290000|         2002|   gasoline|         False|   gasoline|            3.0|universal|       False|owned|       all|   5000.0|           True|   Минская обл.|              12|        54|    False|     True|    False|    False|     True|     True|    False|    False|    False|     True|             83|\n",
      "|           Subaru|  Forester|   automatic|   red|        402000|         2001|   gasoline|         False|   gasoline|            2.5|      suv|       False|owned|       all|   2800.0|           True|   Минская обл.|               4|        72|    False|     True|    False|    False|    False|    False|    False|    False|     True|     True|            151|\n",
      "|           Subaru|   Impreza|  mechanical|  blue|         10000|         1999|   gasoline|         False|   gasoline|            3.0|    sedan|       False|owned|       all|   9999.0|           True|   Минская обл.|               9|        42|     True|    False|    False|    False|    False|    False|    False|    False|    False|    False|             86|\n",
      "|           Subaru|    Legacy|   automatic| black|        280000|         2001|   gasoline|         False|   gasoline|            2.5|universal|       False|owned|       all|  2134.11|           True|Гомельская обл.|              14|         7|    False|     True|    False|     True|     True|    False|    False|    False|    False|     True|              7|\n",
      "+-----------------+----------+------------+------+--------------+-------------+-----------+--------------+-----------+---------------+---------+------------+-----+----------+---------+---------------+---------------+----------------+----------+---------+---------+---------+---------+---------+---------+---------+---------+---------+---------+---------------+\n",
      "only showing top 5 rows\n",
      "\n"
     ]
    }
   ],
   "source": [
    "df.show(5)"
   ]
  },
  {
   "cell_type": "code",
   "execution_count": 13,
   "id": "04ab7d34-3335-452f-bc7e-50bea2f46792",
   "metadata": {},
   "outputs": [
    {
     "name": "stdout",
     "output_type": "stream",
     "text": [
      "-RECORD 0-------------------------\n",
      " manufacturer_name | Subaru       \n",
      " model_name        | Outback      \n",
      " transmission      | automatic    \n",
      " color             | silver       \n",
      " odometer_value    | 190000       \n",
      " year_produced     | 2010         \n",
      " engine_fuel       | gasoline     \n",
      " engine_has_gas    | False        \n",
      " engine_type       | gasoline     \n",
      " engine_capacity   | 2.5          \n",
      " body_type         | universal    \n",
      " has_warranty      | False        \n",
      " state             | owned        \n",
      " drivetrain        | all          \n",
      " price_usd         | 10900.0      \n",
      " is_exchangeable   | False        \n",
      " location_region   | Минская обл. \n",
      " number_of_photos  | 9            \n",
      " up_counter        | 13           \n",
      " feature_0         | False        \n",
      " feature_1         | True         \n",
      " feature_2         | True         \n",
      " feature_3         | True         \n",
      " feature_4         | False        \n",
      " feature_5         | True         \n",
      " feature_6         | False        \n",
      " feature_7         | True         \n",
      " feature_8         | True         \n",
      " feature_9         | True         \n",
      " duration_listed   | 16           \n",
      "only showing top 1 row\n",
      "\n"
     ]
    }
   ],
   "source": [
    "df.show(1, vertical=True)"
   ]
  },
  {
   "cell_type": "code",
   "execution_count": 14,
   "id": "de996439-65f8-4d73-93a7-5500e7f8195c",
   "metadata": {},
   "outputs": [
    {
     "name": "stdout",
     "output_type": "stream",
     "text": [
      "+-----------------+----------+\n",
      "|manufacturer_name|model_name|\n",
      "+-----------------+----------+\n",
      "|           Subaru|   Outback|\n",
      "|           Subaru|   Outback|\n",
      "|           Subaru|  Forester|\n",
      "|           Subaru|   Impreza|\n",
      "|           Subaru|    Legacy|\n",
      "+-----------------+----------+\n",
      "only showing top 5 rows\n",
      "\n"
     ]
    }
   ],
   "source": [
    "df.select(\"manufacturer_name\", \"model_name\").show(5)"
   ]
  },
  {
   "cell_type": "code",
   "execution_count": 15,
   "id": "902b94a7-51c6-4c53-b74b-2c38ac19a260",
   "metadata": {},
   "outputs": [],
   "source": [
    "import pyspark.sql.functions as F"
   ]
  },
  {
   "cell_type": "code",
   "execution_count": 16,
   "id": "edbbc169-84cb-4021-bd90-326a39729ede",
   "metadata": {},
   "outputs": [
    {
     "name": "stdout",
     "output_type": "stream",
     "text": [
      "+-----------------+----------+\n",
      "|manufacturer_name|model_name|\n",
      "+-----------------+----------+\n",
      "|           Subaru|   Outback|\n",
      "|           Subaru|   Outback|\n",
      "|           Subaru|  Forester|\n",
      "|           Subaru|   Impreza|\n",
      "|           Subaru|    Legacy|\n",
      "+-----------------+----------+\n",
      "only showing top 5 rows\n",
      "\n"
     ]
    }
   ],
   "source": [
    "df.select(F.col(\"manufacturer_name\"), F.col(\"model_name\")).show(5)"
   ]
  },
  {
   "cell_type": "code",
   "execution_count": 17,
   "id": "e0274773-6001-4705-9552-0aa9f7b5b70a",
   "metadata": {},
   "outputs": [
    {
     "name": "stdout",
     "output_type": "stream",
     "text": [
      "+-----------------+----------+------------+-----+--------------+-------------+-----------+--------------+-----------+---------------+---------+------------+-----+----------+---------+---------------+----------------+----------------+----------+---------+---------+---------+---------+---------+---------+---------+---------+---------+---------+---------------+\n",
      "|manufacturer_name|model_name|transmission|color|odometer_value|year_produced|engine_fuel|engine_has_gas|engine_type|engine_capacity|body_type|has_warranty|state|drivetrain|price_usd|is_exchangeable| location_region|number_of_photos|up_counter|feature_0|feature_1|feature_2|feature_3|feature_4|feature_5|feature_6|feature_7|feature_8|feature_9|duration_listed|\n",
      "+-----------------+----------+------------+-----+--------------+-------------+-----------+--------------+-----------+---------------+---------+------------+-----+----------+---------+---------------+----------------+----------------+----------+---------+---------+---------+---------+---------+---------+---------+---------+---------+---------+---------------+\n",
      "|             Audi|        Q7|   automatic| grey|        275000|         2007|     diesel|         False|     diesel|            3.0|      suv|       False|owned|       all|  12450.0|           True|    Минская обл.|              23|        16|     True|    False|    False|    False|    False|    False|    False|    False|    False|    False|             21|\n",
      "|             Audi|        TT|   automatic|black|        179000|         2007|   gasoline|         False|   gasoline|            2.0|    coupe|       False|owned|     front|  10450.0|           True|    Минская обл.|              25|        25|     True|    False|    False|    False|    False|    False|    False|    False|    False|    False|             33|\n",
      "|             Audi|       100|  mechanical|white|        325600|         1985|   gasoline|         False|   gasoline|            1.8|    sedan|       False|owned|     front|    650.0|           True|Гродненская обл.|               5|         1|     True|    False|    False|    False|    False|    False|    False|    False|    False|    False|              0|\n",
      "|             Audi|        A6|   automatic|black|        249000|         2008|   gasoline|         False|   gasoline|            2.8|    sedan|       False|owned|     front|  10900.0|          False|  Витебская обл.|              14|        88|    False|     True|     True|     True|     True|     True|     True|     True|     True|     True|            202|\n",
      "|             Audi|        Q3|   automatic|black|        175000|         2012|   gasoline|         False|   gasoline|            2.0|      suv|       False|owned|       all|  13950.0|           True|    Минская обл.|              16|         6|    False|     True|     True|    False|     True|     True|     True|     True|     True|     True|             13|\n",
      "+-----------------+----------+------------+-----+--------------+-------------+-----------+--------------+-----------+---------------+---------+------------+-----+----------+---------+---------------+----------------+----------------+----------+---------+---------+---------+---------+---------+---------+---------+---------+---------+---------+---------------+\n",
      "only showing top 5 rows\n",
      "\n"
     ]
    }
   ],
   "source": [
    "df.filter(\"manufacturer_name = 'Audi'\").show(5)"
   ]
  },
  {
   "cell_type": "code",
   "execution_count": 19,
   "id": "a3e8a9df-f078-4222-8073-7ba190c4c02a",
   "metadata": {},
   "outputs": [
    {
     "name": "stdout",
     "output_type": "stream",
     "text": [
      "+-----------------+----------+------------+\n",
      "|manufacturer_name|model_name|transmission|\n",
      "+-----------------+----------+------------+\n",
      "|             Audi|        Q7|   automatic|\n",
      "|             Audi|        TT|   automatic|\n",
      "|             Audi|       100|  mechanical|\n",
      "|             Audi|        A6|   automatic|\n",
      "|             Audi|        Q3|   automatic|\n",
      "+-----------------+----------+------------+\n",
      "only showing top 5 rows\n",
      "\n"
     ]
    }
   ],
   "source": [
    "df.select(\"manufacturer_name\", \"model_name\", \"transmission\").filter(\"manufacturer_name = 'Audi'\").show(5)"
   ]
  },
  {
   "cell_type": "code",
   "execution_count": 20,
   "id": "db27f555-671c-4513-bad8-8f4163769e9a",
   "metadata": {},
   "outputs": [
    {
     "name": "stdout",
     "output_type": "stream",
     "text": [
      "+-----------------+----------+------------+\n",
      "|manufacturer_name|model_name|transmission|\n",
      "+-----------------+----------+------------+\n",
      "|             Audi|       100|  mechanical|\n",
      "|             Audi|A6 Allroad|  mechanical|\n",
      "|             Audi|       100|  mechanical|\n",
      "|             Audi|        A4|  mechanical|\n",
      "|             Audi|        80|  mechanical|\n",
      "+-----------------+----------+------------+\n",
      "only showing top 5 rows\n",
      "\n"
     ]
    }
   ],
   "source": [
    "df\\\n",
    ".select(\"manufacturer_name\", \"model_name\", \"transmission\")\\\n",
    ".filter(\"manufacturer_name = 'Audi' and transmission = 'mechanical'\").show(5)"
   ]
  },
  {
   "cell_type": "code",
   "execution_count": 21,
   "id": "b22a87fd-c725-48ef-b0a7-627b11c31d26",
   "metadata": {},
   "outputs": [
    {
     "name": "stdout",
     "output_type": "stream",
     "text": [
      "+-----------------+----------+------------+\n",
      "|manufacturer_name|model_name|transmission|\n",
      "+-----------------+----------+------------+\n",
      "|             Audi|       100|  mechanical|\n",
      "|             Audi|A6 Allroad|  mechanical|\n",
      "|             Audi|       100|  mechanical|\n",
      "|             Audi|        A4|  mechanical|\n",
      "|             Audi|        80|  mechanical|\n",
      "+-----------------+----------+------------+\n",
      "only showing top 5 rows\n",
      "\n"
     ]
    }
   ],
   "source": [
    "df\\\n",
    ".select(\"manufacturer_name\", \"model_name\", \"transmission\")\\\n",
    ".filter(\"manufacturer_name = 'Audi'\")\\\n",
    ".filter(\"transmission = 'mechanical'\")\\\n",
    ".show(5)"
   ]
  },
  {
   "cell_type": "code",
   "execution_count": 22,
   "id": "c0a03d2d-51e3-44a4-b321-6f8cc62dcd69",
   "metadata": {},
   "outputs": [
    {
     "name": "stdout",
     "output_type": "stream",
     "text": [
      "+-----------------+----------+------------+\n",
      "|manufacturer_name|model_name|transmission|\n",
      "+-----------------+----------+------------+\n",
      "|             Audi|       100|  mechanical|\n",
      "|             Audi|A6 Allroad|  mechanical|\n",
      "|             Audi|       100|  mechanical|\n",
      "|             Audi|        A4|  mechanical|\n",
      "|             Audi|        80|  mechanical|\n",
      "+-----------------+----------+------------+\n",
      "only showing top 5 rows\n",
      "\n"
     ]
    }
   ],
   "source": [
    " df\\\n",
    ".select(\"manufacturer_name\", \"model_name\", \"transmission\")\\\n",
    ".filter(F.col(\"manufacturer_name\") == 'Audi')\\\n",
    ".filter(F.col(\"transmission\") =='mechanical')\\\n",
    ".show(5)"
   ]
  },
  {
   "cell_type": "code",
   "execution_count": 24,
   "id": "ac9ae171-4e3d-4e4e-84da-3656d40ce7ee",
   "metadata": {},
   "outputs": [
    {
     "name": "stdout",
     "output_type": "stream",
     "text": [
      "+-----------------+----------+------------+\n",
      "|manufacturer_name|model_name|transmission|\n",
      "+-----------------+----------+------------+\n",
      "|             Audi|       100|  mechanical|\n",
      "|             Audi|A6 Allroad|  mechanical|\n",
      "|             Audi|       100|  mechanical|\n",
      "|             Audi|        A4|  mechanical|\n",
      "|             Audi|        80|  mechanical|\n",
      "+-----------------+----------+------------+\n",
      "only showing top 5 rows\n",
      "\n"
     ]
    }
   ],
   "source": [
    "NAME = 'Audi'\n",
    "\n",
    "df\\\n",
    ".select(\"manufacturer_name\", \"model_name\", \"transmission\")\\\n",
    ".filter(F.col(\"manufacturer_name\") == NAME)\\\n",
    ".filter(F.col(\"transmission\") =='mechanical')\\\n",
    ".show(5)"
   ]
  },
  {
   "cell_type": "code",
   "execution_count": 25,
   "id": "76aaf668-c05a-4fb3-bfc3-e17c1fc71dcf",
   "metadata": {},
   "outputs": [
    {
     "data": {
      "text/plain": [
       "38531"
      ]
     },
     "execution_count": 25,
     "metadata": {},
     "output_type": "execute_result"
    }
   ],
   "source": [
    "df.count()"
   ]
  },
  {
   "cell_type": "code",
   "execution_count": 27,
   "id": "baddb5a5-9d89-4f70-a6da-cacccf95a909",
   "metadata": {},
   "outputs": [
    {
     "data": {
      "text/plain": [
       "38491"
      ]
     },
     "execution_count": 27,
     "metadata": {},
     "output_type": "execute_result"
    }
   ],
   "source": [
    "df.distinct().count()"
   ]
  },
  {
   "cell_type": "code",
   "execution_count": 28,
   "id": "c04082fd-d6ee-4625-bad6-490c623bcdd8",
   "metadata": {},
   "outputs": [
    {
     "data": {
      "text/plain": [
       "55"
      ]
     },
     "execution_count": 28,
     "metadata": {},
     "output_type": "execute_result"
    }
   ],
   "source": [
    "df.select(\"manufacturer_name\").distinct().count()"
   ]
  },
  {
   "cell_type": "code",
   "execution_count": 29,
   "id": "c72cb41e-f8f1-44af-83ca-7044ff76a7b7",
   "metadata": {},
   "outputs": [
    {
     "data": {
      "text/plain": [
       "DataFrame[manufacturer_name: string, count: bigint]"
      ]
     },
     "execution_count": 29,
     "metadata": {},
     "output_type": "execute_result"
    }
   ],
   "source": [
    "df.groupBy(\"manufacturer_name\").count()"
   ]
  },
  {
   "cell_type": "code",
   "execution_count": 30,
   "id": "3bfd609a-27dc-4d7e-83e0-3a3837719e67",
   "metadata": {},
   "outputs": [
    {
     "name": "stdout",
     "output_type": "stream",
     "text": [
      "+-----------------+-----+\n",
      "|manufacturer_name|count|\n",
      "+-----------------+-----+\n",
      "|       Volkswagen| 4243|\n",
      "|            Lexus|  213|\n",
      "|           Jaguar|   53|\n",
      "|            Rover|  235|\n",
      "|           Lancia|   92|\n",
      "|             Jeep|  107|\n",
      "|       Mitsubishi|  887|\n",
      "|              Kia|  912|\n",
      "|             Mini|   68|\n",
      "|            Lifan|   47|\n",
      "|             LADA|  146|\n",
      "|        SsangYong|   79|\n",
      "|             Audi| 2468|\n",
      "|             Seat|  303|\n",
      "|         Cadillac|   43|\n",
      "|          Москвич|   55|\n",
      "|       Alfa Romeo|  207|\n",
      "|            Geely|   71|\n",
      "|          Renault| 2493|\n",
      "|           Daewoo|  221|\n",
      "+-----------------+-----+\n",
      "only showing top 20 rows\n",
      "\n"
     ]
    }
   ],
   "source": [
    "df.groupBy(\"manufacturer_name\").count().show()"
   ]
  },
  {
   "cell_type": "code",
   "execution_count": 31,
   "id": "3a17c98e-234e-46f6-a298-f495351dfa69",
   "metadata": {},
   "outputs": [
    {
     "name": "stdout",
     "output_type": "stream",
     "text": [
      "+-----------------+-----+\n",
      "|manufacturer_name|count|\n",
      "+-----------------+-----+\n",
      "|          Lincoln|   36|\n",
      "|       Great Wall|   36|\n",
      "|          Pontiac|   42|\n",
      "|              ЗАЗ|   42|\n",
      "|         Cadillac|   43|\n",
      "+-----------------+-----+\n",
      "only showing top 5 rows\n",
      "\n"
     ]
    }
   ],
   "source": [
    "df.groupBy(\"manufacturer_name\").count().orderBy(\"count\").show(5)"
   ]
  },
  {
   "cell_type": "code",
   "execution_count": 32,
   "id": "6241caee-5696-4602-94be-39addf66d944",
   "metadata": {},
   "outputs": [
    {
     "name": "stdout",
     "output_type": "stream",
     "text": [
      "+-----------------+-----+\n",
      "|manufacturer_name|count|\n",
      "+-----------------+-----+\n",
      "|       Volkswagen| 4243|\n",
      "|             Opel| 2759|\n",
      "|              BMW| 2610|\n",
      "|             Ford| 2566|\n",
      "|          Renault| 2493|\n",
      "+-----------------+-----+\n",
      "only showing top 5 rows\n",
      "\n"
     ]
    }
   ],
   "source": [
    "df.groupBy(\"manufacturer_name\").count().orderBy(F.col(\"count\").desc()).show(5)"
   ]
  },
  {
   "cell_type": "code",
   "execution_count": 33,
   "id": "f69e119d-704e-4f8a-b05e-7ed07d83e91a",
   "metadata": {},
   "outputs": [
    {
     "name": "stdout",
     "output_type": "stream",
     "text": [
      "+------------+\n",
      "|manufacturer|\n",
      "+------------+\n",
      "|      Subaru|\n",
      "|      Subaru|\n",
      "|      Subaru|\n",
      "|      Subaru|\n",
      "|      Subaru|\n",
      "+------------+\n",
      "only showing top 5 rows\n",
      "\n"
     ]
    }
   ],
   "source": [
    "df.withColumnRenamed(\"manufacturer_name\", \"manufacturer\").select(\"manufacturer\").show(5)"
   ]
  },
  {
   "cell_type": "code",
   "execution_count": 34,
   "id": "fa265f1e-f130-4782-8b75-dba43af75cb1",
   "metadata": {},
   "outputs": [
    {
     "name": "stdout",
     "output_type": "stream",
     "text": [
      "+-------------+---------+\n",
      "|year_produced|next_year|\n",
      "+-------------+---------+\n",
      "|         2010|   2011.0|\n",
      "|         2002|   2003.0|\n",
      "|         2001|   2002.0|\n",
      "|         1999|   2000.0|\n",
      "|         2001|   2002.0|\n",
      "+-------------+---------+\n",
      "only showing top 5 rows\n",
      "\n"
     ]
    }
   ],
   "source": [
    "df.withColumn(\"next_year\", F.col(\"year_produced\") + 1).select(\"year_produced\", \"next_year\").show(5)"
   ]
  },
  {
   "cell_type": "code",
   "execution_count": 35,
   "id": "27a14027-1952-4ceb-a6be-5281f4ec9ed8",
   "metadata": {},
   "outputs": [
    {
     "name": "stdout",
     "output_type": "stream",
     "text": [
      "root\n",
      " |-- manufacturer_name: string (nullable = true)\n",
      " |-- model_name: string (nullable = true)\n",
      " |-- transmission: string (nullable = true)\n",
      " |-- color: string (nullable = true)\n",
      " |-- odometer_value: string (nullable = true)\n",
      " |-- year_produced: string (nullable = true)\n",
      " |-- engine_fuel: string (nullable = true)\n",
      " |-- engine_has_gas: string (nullable = true)\n",
      " |-- engine_type: string (nullable = true)\n",
      " |-- engine_capacity: string (nullable = true)\n",
      " |-- body_type: string (nullable = true)\n",
      " |-- has_warranty: string (nullable = true)\n",
      " |-- state: string (nullable = true)\n",
      " |-- drivetrain: string (nullable = true)\n",
      " |-- price_usd: string (nullable = true)\n",
      " |-- is_exchangeable: string (nullable = true)\n",
      " |-- location_region: string (nullable = true)\n",
      " |-- number_of_photos: string (nullable = true)\n",
      " |-- up_counter: string (nullable = true)\n",
      " |-- feature_0: string (nullable = true)\n",
      " |-- feature_1: string (nullable = true)\n",
      " |-- feature_2: string (nullable = true)\n",
      " |-- feature_3: string (nullable = true)\n",
      " |-- feature_4: string (nullable = true)\n",
      " |-- feature_5: string (nullable = true)\n",
      " |-- feature_6: string (nullable = true)\n",
      " |-- feature_7: string (nullable = true)\n",
      " |-- feature_8: string (nullable = true)\n",
      " |-- feature_9: string (nullable = true)\n",
      " |-- duration_listed: string (nullable = true)\n",
      "\n"
     ]
    }
   ],
   "source": [
    "df.printSchema()"
   ]
  },
  {
   "cell_type": "code",
   "execution_count": 41,
   "id": "1ffda252-138e-4b96-8269-e5e7095608c4",
   "metadata": {},
   "outputs": [
    {
     "name": "stdout",
     "output_type": "stream",
     "text": [
      "+-------+-----------------+------------------+\n",
      "|summary|manufacturer_name|     year_produced|\n",
      "+-------+-----------------+------------------+\n",
      "|  count|            38531|             38531|\n",
      "|   mean|             null|2002.9437336170874|\n",
      "| stddev|             null| 8.065730511309367|\n",
      "|    min|            Acura|              1942|\n",
      "|    max|              УАЗ|              2019|\n",
      "+-------+-----------------+------------------+\n",
      "\n"
     ]
    }
   ],
   "source": [
    "df.select('manufacturer_name', 'year_produced').describe().show()"
   ]
  },
  {
   "cell_type": "code",
   "execution_count": 42,
   "id": "b50b9b51-aad7-4664-899c-98cb24bc37ee",
   "metadata": {},
   "outputs": [],
   "source": [
    "spark.stop()"
   ]
  },
  {
   "cell_type": "code",
   "execution_count": null,
   "id": "e9a2e7ae-b192-45ac-b97a-b2f63f4ef240",
   "metadata": {},
   "outputs": [],
   "source": []
  }
 ],
 "metadata": {
  "kernelspec": {
   "display_name": "Python 3 (ipykernel)",
   "language": "python",
   "name": "python3"
  },
  "language_info": {
   "codemirror_mode": {
    "name": "ipython",
    "version": 3
   },
   "file_extension": ".py",
   "mimetype": "text/x-python",
   "name": "python",
   "nbconvert_exporter": "python",
   "pygments_lexer": "ipython3",
   "version": "3.10.8"
  }
 },
 "nbformat": 4,
 "nbformat_minor": 5
}
